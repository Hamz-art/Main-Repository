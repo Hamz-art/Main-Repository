{
 "cells": [
  {
   "cell_type": "code",
   "execution_count": 3,
   "id": "70e28d6b-100e-4dd6-b8e4-c3692026219f",
   "metadata": {},
   "outputs": [
    {
     "name": "stdout",
     "output_type": "stream",
     "text": [
      "   Unnamed: 0 Country/Region  Confirmed Deaths  Recovered  Active  New cases  \\\n",
      "0           0    Afghanistan      36263   1269      25198    9796      106.0   \n",
      "1           1        Albania       4880    144       2745    1991      117.0   \n",
      "2           2        Algeria      27973   1163      18837    7973      616.0   \n",
      "3           3        Andorra        907     52        803      52       10.0   \n",
      "4           4         Angola        950     41        242     667       18.0   \n",
      "\n",
      "   New deaths  New recovered  Deaths / 100 Cases  Recovered / 100 Cases  \\\n",
      "0        10.0             18                3.50                  69.49   \n",
      "1         6.0             63                2.95                  56.25   \n",
      "2         8.0            749                4.16                  67.34   \n",
      "3         0.0              0                5.73                  88.53   \n",
      "4         1.0              0                4.32                  25.47   \n",
      "\n",
      "   Deaths / 100 Recovered  Confirmed last week  1 week change  \\\n",
      "0                    5.04                35526            737   \n",
      "1                    5.25                 4171            709   \n",
      "2                    6.17                23691           4282   \n",
      "3                    6.48                  884             23   \n",
      "4                   16.94                  749            201   \n",
      "\n",
      "   1 week % increase             WHO Region  \n",
      "0               2.07  Eastern Mediterranean  \n",
      "1              17.00                 Europe  \n",
      "2              18.07                 Africa  \n",
      "3               2.60                 Europe  \n",
      "4              26.84                 Africa  \n"
     ]
    }
   ],
   "source": [
    "import pandas as pd\n",
    "\n",
    "df = pd.read_csv(\"covid_19_country_wise_latest (1).csv\")\n",
    "\n",
    "print(df.head(5))"
   ]
  },
  {
   "cell_type": "code",
   "execution_count": 19,
   "id": "53c033bf-17aa-41fa-bc79-10f4763bc7f6",
   "metadata": {},
   "outputs": [
    {
     "name": "stdout",
     "output_type": "stream",
     "text": [
      "                Confirmed Deaths  Recovered  Active  New cases  New deaths  \\\n",
      "Country/Region                                                               \n",
      "Afghanistan         36263   1269      25198    9796      106.0        10.0   \n",
      "Albania              4880    144       2745    1991      117.0         6.0   \n",
      "Algeria             27973   1163      18837    7973      616.0         8.0   \n",
      "Andorra               907     52        803      52       10.0         0.0   \n",
      "Angola                950     41        242     667       18.0         1.0   \n",
      "\n",
      "                New recovered  Deaths / 100 Cases  Recovered / 100 Cases  \\\n",
      "Country/Region                                                             \n",
      "Afghanistan                18                3.50                  69.49   \n",
      "Albania                    63                2.95                  56.25   \n",
      "Algeria                   749                4.16                  67.34   \n",
      "Andorra                     0                5.73                  88.53   \n",
      "Angola                      0                4.32                  25.47   \n",
      "\n",
      "                Deaths / 100 Recovered  Confirmed last week  1 week change  \\\n",
      "Country/Region                                                               \n",
      "Afghanistan                       5.04                35526            737   \n",
      "Albania                           5.25                 4171            709   \n",
      "Algeria                           6.17                23691           4282   \n",
      "Andorra                           6.48                  884             23   \n",
      "Angola                           16.94                  749            201   \n",
      "\n",
      "                1 week % increase             WHO Region  \n",
      "Country/Region                                            \n",
      "Afghanistan                  2.07  Eastern Mediterranean  \n",
      "Albania                     17.00                 Europe  \n",
      "Algeria                     18.07                 Africa  \n",
      "Andorra                      2.60                 Europe  \n",
      "Angola                      26.84                 Africa  \n"
     ]
    }
   ],
   "source": [
    "df.set_index('Country/Region', inplace=True, drop=True)\n",
    "\n",
    "print(df.head())"
   ]
  },
  {
   "cell_type": "code",
   "execution_count": 25,
   "id": "0ebd29b5-8329-4a20-8cc0-d4974c99a34b",
   "metadata": {},
   "outputs": [
    {
     "name": "stdout",
     "output_type": "stream",
     "text": [
      "             Confirmed Deaths  Recovered  Active  New cases  New deaths  \\\n",
      "index                                                                     \n",
      "Afghanistan      36263   1269      25198    9796      106.0        10.0   \n",
      "Albania           4880    144       2745    1991      117.0         6.0   \n",
      "Algeria          27973   1163      18837    7973      616.0         8.0   \n",
      "Andorra            907     52        803      52       10.0         0.0   \n",
      "Angola             950     41        242     667       18.0         1.0   \n",
      "\n",
      "             New recovered  Deaths / 100 Cases  Recovered / 100 Cases  \\\n",
      "index                                                                   \n",
      "Afghanistan             18                3.50                  69.49   \n",
      "Albania                 63                2.95                  56.25   \n",
      "Algeria                749                4.16                  67.34   \n",
      "Andorra                  0                5.73                  88.53   \n",
      "Angola                   0                4.32                  25.47   \n",
      "\n",
      "             Deaths / 100 Recovered  Confirmed last week  1 week change  \\\n",
      "index                                                                     \n",
      "Afghanistan                    5.04                35526            737   \n",
      "Albania                        5.25                 4171            709   \n",
      "Algeria                        6.17                23691           4282   \n",
      "Andorra                        6.48                  884             23   \n",
      "Angola                        16.94                  749            201   \n",
      "\n",
      "             1 week % increase             WHO Region  \n",
      "index                                                  \n",
      "Afghanistan               2.07  Eastern Mediterranean  \n",
      "Albania                  17.00                 Europe  \n",
      "Algeria                  18.07                 Africa  \n",
      "Andorra                   2.60                 Europe  \n",
      "Angola                   26.84                 Africa  \n"
     ]
    }
   ],
   "source": [
    "df.index.name = 'index'\n",
    "\n",
    "print(df.head())"
   ]
  },
  {
   "cell_type": "code",
   "execution_count": 27,
   "id": "67238552-a228-4832-a17b-7bd5e1bc9534",
   "metadata": {},
   "outputs": [
    {
     "name": "stdout",
     "output_type": "stream",
     "text": [
      "Index(['Confirmed', 'Deaths', 'Recovered', 'Active', 'New_cases', 'New_deaths',\n",
      "       'New_recovered', 'Deaths_/_100_Cases', 'Recovered_/_100_Cases',\n",
      "       'Deaths_/_100_Recovered', 'Confirmed_last_week', '1_week_change',\n",
      "       '1_week_%_increase', 'WHO_Region'],\n",
      "      dtype='object')\n"
     ]
    }
   ],
   "source": [
    "def replace_whitespace_with_underscore(df):\n",
    "    df.columns = df.columns.str.replace(' ', '_')\n",
    "    return df\n",
    "\n",
    "df = replace_whitespace_with_underscore(df)\n",
    "\n",
    "print(df.columns)"
   ]
  },
  {
   "cell_type": "code",
   "execution_count": 29,
   "id": "4cb8f6d0-b126-45a9-96e2-37849cc13587",
   "metadata": {},
   "outputs": [
    {
     "name": "stdout",
     "output_type": "stream",
     "text": [
      "<class 'pandas.core.frame.DataFrame'>\n",
      "Index: 187 entries, Afghanistan to Zimbabwe\n",
      "Data columns (total 14 columns):\n",
      " #   Column                  Non-Null Count  Dtype  \n",
      "---  ------                  --------------  -----  \n",
      " 0   Confirmed               187 non-null    int64  \n",
      " 1   Deaths                  187 non-null    object \n",
      " 2   Recovered               187 non-null    int64  \n",
      " 3   Active                  187 non-null    int64  \n",
      " 4   New_cases               177 non-null    float64\n",
      " 5   New_deaths              177 non-null    float64\n",
      " 6   New_recovered           187 non-null    int64  \n",
      " 7   Deaths_/_100_Cases      187 non-null    float64\n",
      " 8   Recovered_/_100_Cases   187 non-null    float64\n",
      " 9   Deaths_/_100_Recovered  187 non-null    float64\n",
      " 10  Confirmed_last_week     187 non-null    int64  \n",
      " 11  1_week_change           187 non-null    int64  \n",
      " 12  1_week_%_increase       187 non-null    float64\n",
      " 13  WHO_Region              187 non-null    object \n",
      "dtypes: float64(6), int64(6), object(2)\n",
      "memory usage: 21.9+ KB\n",
      "None\n",
      "Confirmed                  0\n",
      "Deaths                     0\n",
      "Recovered                  0\n",
      "Active                     0\n",
      "New_cases                 10\n",
      "New_deaths                10\n",
      "New_recovered              0\n",
      "Deaths_/_100_Cases         0\n",
      "Recovered_/_100_Cases      0\n",
      "Deaths_/_100_Recovered     0\n",
      "Confirmed_last_week        0\n",
      "1_week_change              0\n",
      "1_week_%_increase          0\n",
      "WHO_Region                 0\n",
      "dtype: int64\n"
     ]
    }
   ],
   "source": [
    "print(df.info())\n",
    "\n",
    "print(df.isnull().sum())"
   ]
  },
  {
   "cell_type": "code",
   "execution_count": null,
   "id": "42ddc132-4350-40dd-8a35-674d22a7d7d5",
   "metadata": {},
   "outputs": [],
   "source": [
    "df.fillna(df.mean(), inplace=True)\n",
    "\n",
    "print(df.isnull().sum())"
   ]
  },
  {
   "cell_type": "code",
   "execution_count": 69,
   "id": "f8c5c2ed-2680-4ddd-9588-4e4b6167b172",
   "metadata": {},
   "outputs": [
    {
     "name": "stdout",
     "output_type": "stream",
     "text": [
      "Number of unique countries: 184\n"
     ]
    }
   ],
   "source": [
    "unique_countries = df['Confirmed'].nunique()\n",
    "\n",
    "print(f\"Number of unique countries: {unique_countries}\")"
   ]
  },
  {
   "cell_type": "code",
   "execution_count": 73,
   "id": "572ec8f5-5458-4cd3-8ce7-77cddba7979b",
   "metadata": {},
   "outputs": [
    {
     "name": "stdout",
     "output_type": "stream",
     "text": [
      "             Confirmed Deaths  Recovered  Active  New_cases  New_deaths  \\\n",
      "index                                                                     \n",
      "Afghanistan      36263   1269      25198    9796      106.0        10.0   \n",
      "Albania           4880    144       2745    1991      117.0         6.0   \n",
      "Algeria          27973   1163      18837    7973      616.0         8.0   \n",
      "Andorra            907     52        803      52       10.0         0.0   \n",
      "Angola             950     41        242     667       18.0         1.0   \n",
      "\n",
      "             New_recovered  Deaths_/_100_Cases  Recovered_/_100_Cases  \\\n",
      "index                                                                   \n",
      "Afghanistan             18                3.50                  69.49   \n",
      "Albania                 63                2.95                  56.25   \n",
      "Algeria                749                4.16                  67.34   \n",
      "Andorra                  0                5.73                  88.53   \n",
      "Angola                   0                4.32                  25.47   \n",
      "\n",
      "             Deaths_/_100_Recovered  Confirmed_last_week  1_week_change  \\\n",
      "index                                                                     \n",
      "Afghanistan                    5.04                35526            737   \n",
      "Albania                        5.25                 4171            709   \n",
      "Algeria                        6.17                23691           4282   \n",
      "Andorra                        6.48                  884             23   \n",
      "Angola                        16.94                  749            201   \n",
      "\n",
      "             1_week_%_increase             WHO_Region  \n",
      "index                                                  \n",
      "Afghanistan               2.07  Eastern Mediterranean  \n",
      "Albania                  17.00                 Europe  \n",
      "Algeria                  18.07                 Africa  \n",
      "Andorra                   2.60                 Europe  \n",
      "Angola                   26.84                 Africa  \n"
     ]
    }
   ],
   "source": [
    "duplicates = df[df.duplicated(subset=['Confirmed'], keep=False)]\n",
    "\n",
    "df.drop_duplicates(subset=['Confirmed'], keep='first', inplace=True)\n",
    "\n",
    "print(df.head())"
   ]
  },
  {
   "cell_type": "code",
   "execution_count": 75,
   "id": "26d7bfc5-f1cf-47b3-8f99-f944686ea82d",
   "metadata": {},
   "outputs": [
    {
     "name": "stdout",
     "output_type": "stream",
     "text": [
      "Mean of Total Cases: 89509.53260869565\n",
      "Median of Total Cases: 5633.5\n",
      "Standard Deviation of Total Cases: 386293.1770143578\n"
     ]
    }
   ],
   "source": [
    "mean_cases = df['Confirmed'].mean()\n",
    "median_cases = df['Confirmed'].median()\n",
    "std_cases = df['Confirmed'].std()\n",
    "\n",
    "print(f\"Mean of Total Cases: {mean_cases}\")\n",
    "print(f\"Median of Total Cases: {median_cases}\")\n",
    "print(f\"Standard Deviation of Total Cases: {std_cases}\")\n"
   ]
  },
  {
   "cell_type": "code",
   "execution_count": 77,
   "id": "266666fb-67fa-46ac-872b-defa540ee4a2",
   "metadata": {},
   "outputs": [
    {
     "name": "stdout",
     "output_type": "stream",
     "text": [
      "index\n",
      "Afghanistan    1269.0\n",
      "Albania         144.0\n",
      "Algeria        1163.0\n",
      "Andorra          52.0\n",
      "Angola           41.0\n",
      "Name: Deaths, dtype: float64\n"
     ]
    }
   ],
   "source": [
    "df['Deaths'] = pd.to_numeric(df['Deaths'], errors='coerce')\n",
    "df['Deaths'].fillna(df['Deaths'].mean(), inplace=True)\n",
    "\n",
    "print(df['Deaths'].head())"
   ]
  },
  {
   "cell_type": "code",
   "execution_count": 79,
   "id": "3e0c57e6-51c3-4930-95e4-1b7436fdac62",
   "metadata": {},
   "outputs": [
    {
     "name": "stdout",
     "output_type": "stream",
     "text": [
      "float64\n"
     ]
    }
   ],
   "source": [
    "df['Deaths'] = df['Deaths'].astype('float64')\n",
    "\n",
    "print(df['Deaths'].dtype)"
   ]
  },
  {
   "cell_type": "code",
   "execution_count": 81,
   "id": "920d500a-aad3-407c-a765-919c41d67859",
   "metadata": {},
   "outputs": [
    {
     "name": "stdout",
     "output_type": "stream",
     "text": [
      "Total Deaths Worldwide: 657494.3387978142\n",
      "Total Recoveries Worldwide: 9464254\n"
     ]
    }
   ],
   "source": [
    "total_deaths = df['Deaths'].sum()\n",
    "total_recoveries = df['Recovered'].sum()\n",
    "\n",
    "print(f\"Total Deaths Worldwide: {total_deaths}\")\n",
    "print(f\"Total Recoveries Worldwide: {total_recoveries}\")"
   ]
  },
  {
   "cell_type": "code",
   "execution_count": 83,
   "id": "807e64be-1a13-4836-9d8e-cdf7302261c3",
   "metadata": {},
   "outputs": [
    {
     "name": "stdout",
     "output_type": "stream",
     "text": [
      "Number of countries with more than 1 million total cases: 3\n"
     ]
    }
   ],
   "source": [
    "countries_above_1m = df[df['Confirmed'] > 1_000_000]\n",
    "\n",
    "print(f\"Number of countries with more than 1 million total cases: {len(countries_above_1m)}\")"
   ]
  },
  {
   "cell_type": "code",
   "execution_count": 147,
   "id": "e1201f24-e767-45fe-832b-f400dde983a2",
   "metadata": {},
   "outputs": [
    {
     "name": "stdout",
     "output_type": "stream",
     "text": [
      "    Recovery_Rate\n",
      "24      97.872340\n",
      "48      98.379126\n",
      "49     100.000000\n",
      "69     100.000000\n",
      "75     100.000000\n"
     ]
    }
   ],
   "source": [
    "countries_above_95_recovery = df[df['Recovery_Rate'] > 95]\n",
    "\n",
    "print(countries_above_95_recovery[['Recovery_Rate']].head())"
   ]
  },
  {
   "cell_type": "code",
   "execution_count": 97,
   "id": "470a8a53-79df-442a-8d04-aaad28d5ce25",
   "metadata": {},
   "outputs": [
    {
     "name": "stdout",
     "output_type": "stream",
     "text": [
      "             Deaths  Recovered  Active  New_cases  New_deaths  New_recovered  \\\n",
      "index                                                                          \n",
      "Afghanistan  1269.0      25198    9796      106.0        10.0             18   \n",
      "Albania       144.0       2745    1991      117.0         6.0             63   \n",
      "Algeria      1163.0      18837    7973      616.0         8.0            749   \n",
      "Andorra        52.0        803      52       10.0         0.0              0   \n",
      "Angola         41.0        242     667       18.0         1.0              0   \n",
      "\n",
      "             Deaths_/_100_Cases  Recovered_/_100_Cases  \\\n",
      "index                                                    \n",
      "Afghanistan                3.50                  69.49   \n",
      "Albania                    2.95                  56.25   \n",
      "Algeria                    4.16                  67.34   \n",
      "Andorra                    5.73                  88.53   \n",
      "Angola                     4.32                  25.47   \n",
      "\n",
      "             Deaths_/_100_Recovered  Confirmed_last_week  1_week_change  \\\n",
      "index                                                                     \n",
      "Afghanistan                    5.04                35526            737   \n",
      "Albania                        5.25                 4171            709   \n",
      "Algeria                        6.17                23691           4282   \n",
      "Andorra                        6.48                  884             23   \n",
      "Angola                        16.94                  749            201   \n",
      "\n",
      "             1_week_%_increase  Recovery_Rate  \n",
      "index                                          \n",
      "Afghanistan               2.07      69.486805  \n",
      "Albania                  17.00      56.250000  \n",
      "Algeria                  18.07      67.339935  \n",
      "Andorra                   2.60      88.533627  \n",
      "Angola                   26.84      25.473684  \n"
     ]
    }
   ],
   "source": [
    "df.drop(columns=['WHO_Region' , 'Confirmed'], inplace=True)\n",
    "\n",
    "print(df.head())"
   ]
  },
  {
   "cell_type": "code",
   "execution_count": 115,
   "id": "17425e8f-995c-4511-8225-ec3277673160",
   "metadata": {},
   "outputs": [
    {
     "name": "stdout",
     "output_type": "stream",
     "text": [
      "Country with the highest number of deaths: US\n"
     ]
    }
   ],
   "source": [
    "max_deaths_country = df.loc[df['Deaths'].idxmax()]\n",
    "\n",
    "print(f\"Country with the highest number of deaths: {max_deaths_country.name}\")"
   ]
  },
  {
   "cell_type": "code",
   "execution_count": 125,
   "id": "5965f69e-f5da-470a-a4a4-4902dac32fdd",
   "metadata": {},
   "outputs": [
    {
     "name": "stdout",
     "output_type": "stream",
     "text": [
      "            index    Deaths\n",
      "0              US  148011.0\n",
      "1          Brazil   87618.0\n",
      "2  United Kingdom   45844.0\n",
      "3          Mexico   44022.0\n",
      "4           Italy   35112.0\n"
     ]
    }
   ],
   "source": [
    "df_sorted_by_deaths = df.sort_values(by='Deaths', ascending=False)\n",
    "\n",
    "df_sorted_by_deaths.reset_index(inplace=True)\n",
    "\n",
    "print(df_sorted_by_deaths[['index', 'Deaths']].head())"
   ]
  },
  {
   "cell_type": "code",
   "execution_count": 137,
   "id": "5b823168-fe04-4deb-b2d5-f7a62846e916",
   "metadata": {},
   "outputs": [
    {
     "name": "stdout",
     "output_type": "stream",
     "text": [
      "             Total_Cases\n",
      "index                   \n",
      "Afghanistan      36263.0\n",
      "Albania           4880.0\n",
      "Algeria          27973.0\n",
      "Andorra            907.0\n",
      "Angola             950.0\n"
     ]
    }
   ],
   "source": [
    "df['Total_Cases'] = df['Deaths'] + df['Recovered'] + df['Active']\n",
    "\n",
    "\n",
    "print(df[['Total_Cases']].head())"
   ]
  },
  {
   "cell_type": "code",
   "execution_count": 139,
   "id": "02c96dff-56d3-4488-84f4-0b3f3ed51ba1",
   "metadata": {},
   "outputs": [
    {
     "name": "stdout",
     "output_type": "stream",
     "text": [
      "             Death_Rate\n",
      "index                  \n",
      "Afghanistan    3.499435\n",
      "Albania        2.950820\n",
      "Algeria        4.157581\n",
      "Andorra        5.733186\n",
      "Angola         4.315789\n"
     ]
    }
   ],
   "source": [
    "df['Death_Rate'] = (df['Deaths'] / df['Total_Cases']) * 100\n",
    "\n",
    "print(df[['Death_Rate']].head())"
   ]
  },
  {
   "cell_type": "code",
   "execution_count": 159,
   "id": "e767b22b-520c-4ee6-92b4-4e1a59b94b74",
   "metadata": {},
   "outputs": [
    {
     "name": "stdout",
     "output_type": "stream",
     "text": [
      "   Death_Rate  1_week_change\n",
      "0    3.499435            737\n",
      "1    2.950820            709\n",
      "2    4.157581           4282\n",
      "3    5.733186             23\n",
      "4    4.315789            201\n"
     ]
    }
   ],
   "source": [
    "low_death_rate_increasing_cases = df[(df['1_week_change'] > 0) & (df['Death_Rate'] < 6)]\n",
    "\n",
    "print(low_death_rate_increasing_cases[['Death_Rate', '1_week_change']].head())"
   ]
  },
  {
   "cell_type": "code",
   "execution_count": 163,
   "id": "f23a1b74-32d0-4c42-92ce-b23d5e376caf",
   "metadata": {},
   "outputs": [
    {
     "name": "stdout",
     "output_type": "stream",
     "text": [
      "   Death_Rate\n",
      "0    3.499435\n",
      "1    2.950820\n",
      "2    4.157581\n",
      "3    5.733186\n",
      "4    4.315789\n"
     ]
    }
   ],
   "source": [
    "print(df[['Death_Rate']].head())"
   ]
  },
  {
   "cell_type": "code",
   "execution_count": 185,
   "id": "1b32db99-29ea-4e77-bb04-46463c4d910e",
   "metadata": {},
   "outputs": [
    {
     "name": "stdout",
     "output_type": "stream",
     "text": [
      "   Country/Region  Death_Rate\n",
      "0               0    3.499435\n",
      "1               1    2.950820\n",
      "2               2    4.157581\n",
      "3               3    5.733186\n",
      "4               4    4.315789\n"
     ]
    }
   ],
   "source": [
    "df.reset_index(drop=True, inplace=True)\n",
    "\n",
    "df['Country/Region'] = df.index\n",
    "\n",
    "print(df[['Country/Region', 'Death_Rate']].head())"
   ]
  },
  {
   "cell_type": "code",
   "execution_count": 187,
   "id": "b8c9c194-894f-47dd-83ad-49527ed89feb",
   "metadata": {},
   "outputs": [
    {
     "data": {
      "image/png": "[encoded data removed]",
      "text/plain": [
       "<Figure size 1000x600 with 1 Axes>"
      ]
     },
     "metadata": {},
     "output_type": "display_data"
    }
   ],
   "source": [
    "import matplotlib.pyplot as plt\n",
    "\n",
    "plt.figure(figsize=(10, 6))\n",
    "plt.scatter(df['Total_Cases'], df['Deaths'], alpha=0.5)\n",
    "plt.title('Total Cases vs Total Deaths')\n",
    "plt.xlabel('Total Cases')\n",
    "plt.ylabel('Total Deaths')\n",
    "plt.show()"
   ]
  },
  {
   "cell_type": "code",
   "execution_count": 195,
   "id": "66a05a4d-458c-4caa-bc0f-3c13db648c2d",
   "metadata": {},
   "outputs": [],
   "source": [
    "df.to_csv('covid_data.csv', index=True)"
   ]
  },
  {
   "cell_type": "code",
   "execution_count": 199,
   "id": "80b6b91e-ef1b-4993-8a24-8b6986c631ae",
   "metadata": {},
   "outputs": [
    {
     "data": {
      "text/plain": [
       "<bound method DataFrame.update of      Unnamed: 0  level_0           index       Deaths  Recovered  Active  \\\n",
       "0             0        0     Afghanistan  1269.000000      25198    9796   \n",
       "1             1        1         Albania   144.000000       2745    1991   \n",
       "2             2        2         Algeria  1163.000000      18837    7973   \n",
       "3             3        3         Andorra    52.000000        803      52   \n",
       "4             4        4          Angola    41.000000        242     667   \n",
       "..          ...      ...             ...          ...        ...     ...   \n",
       "179         179      179         Vietnam     0.000000        365      66   \n",
       "180         180      180  Western Sahara     1.000000          8       1   \n",
       "181         181      181           Yemen   483.000000        833     375   \n",
       "182         182      182          Zambia   140.000000       2815    1597   \n",
       "183         183      183        Zimbabwe  3573.338798        542    2126   \n",
       "\n",
       "     New_cases  New_deaths  New_recovered  Deaths_/_100_Cases  \\\n",
       "0        106.0        10.0             18                3.50   \n",
       "1        117.0         6.0             63                2.95   \n",
       "2        616.0         8.0            749                4.16   \n",
       "3         10.0         0.0              0                5.73   \n",
       "4         18.0         1.0              0                4.32   \n",
       "..         ...         ...            ...                 ...   \n",
       "179        NaN         NaN              0                0.00   \n",
       "180        0.0         0.0              0               10.00   \n",
       "181       10.0         4.0             36               28.56   \n",
       "182       71.0         1.0            465                3.08   \n",
       "183      192.0         2.0             24                1.33   \n",
       "\n",
       "     Recovered_/_100_Cases  Deaths_/_100_Recovered  Confirmed_last_week  \\\n",
       "0                    69.49                    5.04                35526   \n",
       "1                    56.25                    5.25                 4171   \n",
       "2                    67.34                    6.17                23691   \n",
       "3                    88.53                    6.48                  884   \n",
       "4                    25.47                   16.94                  749   \n",
       "..                     ...                     ...                  ...   \n",
       "179                  84.69                    0.00                  384   \n",
       "180                  80.00                   12.50                   10   \n",
       "181                  49.26                   57.98                 1619   \n",
       "182                  61.84                    4.97                 3326   \n",
       "183                  20.04                    6.64                 1713   \n",
       "\n",
       "     1_week_change  1_week_%_increase  Recovery_Rate   Total_Cases  \\\n",
       "0              737               2.07      69.486805  36263.000000   \n",
       "1              709              17.00      56.250000   4880.000000   \n",
       "2             4282              18.07      67.339935  27973.000000   \n",
       "3               23               2.60      88.533627    907.000000   \n",
       "4              201              26.84      25.473684    950.000000   \n",
       "..             ...                ...            ...           ...   \n",
       "179             47              12.24      84.686775    431.000000   \n",
       "180              0               0.00      80.000000     10.000000   \n",
       "181             72               4.45      49.260792   1691.000000   \n",
       "182           1226              36.86      61.840949   4552.000000   \n",
       "183            991              57.85      20.044379   6241.338798   \n",
       "\n",
       "     Death_Rate  Country/Region  \n",
       "0      3.499435               0  \n",
       "1      2.950820               1  \n",
       "2      4.157581               2  \n",
       "3      5.733186               3  \n",
       "4      4.315789               4  \n",
       "..          ...             ...  \n",
       "179    0.000000             179  \n",
       "180   10.000000             180  \n",
       "181   28.562980             181  \n",
       "182    3.075571             182  \n",
       "183   57.252761             183  \n",
       "\n",
       "[184 rows x 19 columns]>"
      ]
     },
     "execution_count": 199,
     "metadata": {},
     "output_type": "execute_result"
    }
   ],
   "source": [
    "df.update"
   ]
  },
  {
   "cell_type": "code",
   "execution_count": null,
   "id": "2586b9c8-b9d5-4f02-8825-ee1a870ae63c",
   "metadata": {},
   "outputs": [],
   "source": []
  }
 ],
 "metadata": {
  "kernelspec": {
   "display_name": "Python 3 (ipykernel)",
   "language": "python",
   "name": "python3"
  },
  "language_info": {
   "codemirror_mode": {
    "name": "ipython",
    "version": 3
   },
   "file_extension": ".py",
   "mimetype": "text/x-python",
   "name": "python",
   "nbconvert_exporter": "python",
   "pygments_lexer": "ipython3",
   "version": "3.11.7"
  }
 },
 "nbformat": 4,
 "nbformat_minor": 5
}
